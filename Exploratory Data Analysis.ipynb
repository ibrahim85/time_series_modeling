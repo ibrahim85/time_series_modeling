{
 "cells": [
  {
   "cell_type": "code",
   "execution_count": 1,
   "metadata": {
    "collapsed": false
   },
   "outputs": [],
   "source": [
    "import data\n",
    "df = data.read_csv()"
   ]
  },
  {
   "cell_type": "code",
   "execution_count": 8,
   "metadata": {
    "collapsed": true
   },
   "outputs": [],
   "source": [
    "data.read_csv??"
   ]
  },
  {
   "cell_type": "code",
   "execution_count": 2,
   "metadata": {
    "collapsed": false
   },
   "outputs": [
    {
     "name": "stdout",
     "output_type": "stream",
     "text": [
      "<class 'pandas.core.frame.DataFrame'>\n",
      "Int64Index: 6000000 entries, 0 to 5999999\n",
      "Data columns (total 9 columns):\n",
      "0    float64\n",
      "1    float64\n",
      "2    float64\n",
      "3    float64\n",
      "4    float64\n",
      "5    float64\n",
      "6    float64\n",
      "7    float64\n",
      "9    float64\n",
      "dtypes: float64(9)\n",
      "memory usage: 457.8 MB\n"
     ]
    }
   ],
   "source": [
    "df.info()"
   ]
  },
  {
   "cell_type": "code",
   "execution_count": 3,
   "metadata": {
    "collapsed": false
   },
   "outputs": [
    {
     "data": {
      "text/html": [
       "<div>\n",
       "<table border=\"1\" class=\"dataframe\">\n",
       "  <thead>\n",
       "    <tr style=\"text-align: right;\">\n",
       "      <th></th>\n",
       "      <th>0</th>\n",
       "      <th>1</th>\n",
       "      <th>2</th>\n",
       "      <th>3</th>\n",
       "      <th>4</th>\n",
       "      <th>5</th>\n",
       "      <th>6</th>\n",
       "      <th>7</th>\n",
       "      <th>9</th>\n",
       "    </tr>\n",
       "  </thead>\n",
       "  <tbody>\n",
       "    <tr>\n",
       "      <th>count</th>\n",
       "      <td>6.000000e+06</td>\n",
       "      <td>6.000000e+06</td>\n",
       "      <td>6.000000e+06</td>\n",
       "      <td>6.000000e+06</td>\n",
       "      <td>6.000000e+06</td>\n",
       "      <td>6.000000e+06</td>\n",
       "      <td>6.000000e+06</td>\n",
       "      <td>6.000000e+06</td>\n",
       "      <td>6.000000e+06</td>\n",
       "    </tr>\n",
       "    <tr>\n",
       "      <th>mean</th>\n",
       "      <td>-5.032350e-01</td>\n",
       "      <td>-2.270251e-02</td>\n",
       "      <td>3.962317e+00</td>\n",
       "      <td>-2.919067e-02</td>\n",
       "      <td>9.501110e+00</td>\n",
       "      <td>9.506820e+00</td>\n",
       "      <td>1.995628e+02</td>\n",
       "      <td>1.340000e+02</td>\n",
       "      <td>7.597931e+01</td>\n",
       "    </tr>\n",
       "    <tr>\n",
       "      <th>std</th>\n",
       "      <td>1.158978e+01</td>\n",
       "      <td>7.094920e-01</td>\n",
       "      <td>2.181175e+01</td>\n",
       "      <td>7.186675e-01</td>\n",
       "      <td>2.294132e+00</td>\n",
       "      <td>1.026462e+01</td>\n",
       "      <td>2.888937e+02</td>\n",
       "      <td>9.998042e-02</td>\n",
       "      <td>9.798266e+01</td>\n",
       "    </tr>\n",
       "    <tr>\n",
       "      <th>min</th>\n",
       "      <td>-2.474842e+01</td>\n",
       "      <td>-1.477232e+00</td>\n",
       "      <td>-1.033790e+02</td>\n",
       "      <td>-1.442709e+00</td>\n",
       "      <td>5.548382e+00</td>\n",
       "      <td>-4.782498e+01</td>\n",
       "      <td>-3.412559e+02</td>\n",
       "      <td>1.334789e+02</td>\n",
       "      <td>-1.083349e+02</td>\n",
       "    </tr>\n",
       "    <tr>\n",
       "      <th>25%</th>\n",
       "      <td>-1.051016e+01</td>\n",
       "      <td>-7.017336e-01</td>\n",
       "      <td>-1.083108e+01</td>\n",
       "      <td>-7.339117e-01</td>\n",
       "      <td>7.335463e+00</td>\n",
       "      <td>2.582116e+00</td>\n",
       "      <td>-5.041402e+01</td>\n",
       "      <td>1.339326e+02</td>\n",
       "      <td>3.753411e+00</td>\n",
       "    </tr>\n",
       "    <tr>\n",
       "      <th>50%</th>\n",
       "      <td>-5.092675e-01</td>\n",
       "      <td>-4.983446e-02</td>\n",
       "      <td>3.778015e+00</td>\n",
       "      <td>-6.011999e-02</td>\n",
       "      <td>9.693053e+00</td>\n",
       "      <td>9.511857e+00</td>\n",
       "      <td>1.993442e+02</td>\n",
       "      <td>1.339999e+02</td>\n",
       "      <td>6.589096e+01</td>\n",
       "    </tr>\n",
       "    <tr>\n",
       "      <th>75%</th>\n",
       "      <td>9.505567e+00</td>\n",
       "      <td>6.491218e-01</td>\n",
       "      <td>1.854612e+01</td>\n",
       "      <td>6.803319e-01</td>\n",
       "      <td>1.171289e+01</td>\n",
       "      <td>1.643197e+01</td>\n",
       "      <td>4.497335e+02</td>\n",
       "      <td>1.340674e+02</td>\n",
       "      <td>1.317731e+02</td>\n",
       "    </tr>\n",
       "    <tr>\n",
       "      <th>max</th>\n",
       "      <td>2.351151e+01</td>\n",
       "      <td>1.443364e+00</td>\n",
       "      <td>1.241422e+02</td>\n",
       "      <td>1.422491e+00</td>\n",
       "      <td>1.348460e+01</td>\n",
       "      <td>6.053531e+01</td>\n",
       "      <td>7.388803e+02</td>\n",
       "      <td>1.345215e+02</td>\n",
       "      <td>4.529487e+02</td>\n",
       "    </tr>\n",
       "  </tbody>\n",
       "</table>\n",
       "</div>"
      ],
      "text/plain": [
       "                  0             1             2             3             4  \\\n",
       "count  6.000000e+06  6.000000e+06  6.000000e+06  6.000000e+06  6.000000e+06   \n",
       "mean  -5.032350e-01 -2.270251e-02  3.962317e+00 -2.919067e-02  9.501110e+00   \n",
       "std    1.158978e+01  7.094920e-01  2.181175e+01  7.186675e-01  2.294132e+00   \n",
       "min   -2.474842e+01 -1.477232e+00 -1.033790e+02 -1.442709e+00  5.548382e+00   \n",
       "25%   -1.051016e+01 -7.017336e-01 -1.083108e+01 -7.339117e-01  7.335463e+00   \n",
       "50%   -5.092675e-01 -4.983446e-02  3.778015e+00 -6.011999e-02  9.693053e+00   \n",
       "75%    9.505567e+00  6.491218e-01  1.854612e+01  6.803319e-01  1.171289e+01   \n",
       "max    2.351151e+01  1.443364e+00  1.241422e+02  1.422491e+00  1.348460e+01   \n",
       "\n",
       "                  5             6             7             9  \n",
       "count  6.000000e+06  6.000000e+06  6.000000e+06  6.000000e+06  \n",
       "mean   9.506820e+00  1.995628e+02  1.340000e+02  7.597931e+01  \n",
       "std    1.026462e+01  2.888937e+02  9.998042e-02  9.798266e+01  \n",
       "min   -4.782498e+01 -3.412559e+02  1.334789e+02 -1.083349e+02  \n",
       "25%    2.582116e+00 -5.041402e+01  1.339326e+02  3.753411e+00  \n",
       "50%    9.511857e+00  1.993442e+02  1.339999e+02  6.589096e+01  \n",
       "75%    1.643197e+01  4.497335e+02  1.340674e+02  1.317731e+02  \n",
       "max    6.053531e+01  7.388803e+02  1.345215e+02  4.529487e+02  "
      ]
     },
     "execution_count": 3,
     "metadata": {},
     "output_type": "execute_result"
    }
   ],
   "source": [
    "df.describe()"
   ]
  },
  {
   "cell_type": "code",
   "execution_count": null,
   "metadata": {
    "collapsed": false
   },
   "outputs": [],
   "source": [
    "df.corr()"
   ]
  },
  {
   "cell_type": "code",
   "execution_count": null,
   "metadata": {
    "collapsed": false
   },
   "outputs": [],
   "source": [
    "df.cov()"
   ]
  },
  {
   "cell_type": "code",
   "execution_count": null,
   "metadata": {
    "collapsed": true
   },
   "outputs": [],
   "source": []
  }
 ],
 "metadata": {
  "kernelspec": {
   "display_name": "Python 3",
   "language": "python",
   "name": "python3"
  },
  "language_info": {
   "codemirror_mode": {
    "name": "ipython",
    "version": 3
   },
   "file_extension": ".py",
   "mimetype": "text/x-python",
   "name": "python",
   "nbconvert_exporter": "python",
   "pygments_lexer": "ipython3",
   "version": "3.6.0"
  }
 },
 "nbformat": 4,
 "nbformat_minor": 2
}
